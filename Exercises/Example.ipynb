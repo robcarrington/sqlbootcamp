{
 "cells": [
  {
   "cell_type": "code",
   "execution_count": 2,
   "metadata": {},
   "outputs": [],
   "source": [
    "from psycopg2 import connect\n",
    "import pandas as pd"
   ]
  },
  {
   "cell_type": "code",
   "execution_count": 7,
   "metadata": {},
   "outputs": [],
   "source": [
    "host = 'sqlbootcamp.cimmsxploxbp.us-east-2.rds.amazonaws.com'\n",
    "dbname = 'rcarrington'\n",
    "user = 'student'\n",
    "password = 'nobledesktop'"
   ]
  },
  {
   "cell_type": "code",
   "execution_count": 32,
   "metadata": {},
   "outputs": [],
   "source": [
    "conn = connect(host=host, dbname=dbname, user=user, password=password)\n",
    "\n",
    "df = pd.read_sql_query(\"select * from purchase_items;\", conn)"
   ]
  },
  {
   "cell_type": "code",
   "execution_count": null,
   "metadata": {},
   "outputs": [],
   "source": [
    "from psycopg2 import sql\n",
    "\n",
    "cursor = conn.cursor()\n",
    "\n",
    "user_id = input(\"Please enter your user id\")\n",
    "\n",
    "query = sql.SQL(\"select * from users where id = {}\").format(sql.Literal(user_id)) \n",
    "print(query)\n",
    "cursor.execute(query, conn)\n",
    "\n",
    "cursor.fetchall()"
   ]
  }
 ],
 "metadata": {
  "kernelspec": {
   "display_name": "Python 3",
   "language": "python",
   "name": "python3"
  },
  "language_info": {
   "codemirror_mode": {
    "name": "ipython",
    "version": 3
   },
   "file_extension": ".py",
   "mimetype": "text/x-python",
   "name": "python",
   "nbconvert_exporter": "python",
   "pygments_lexer": "ipython3",
   "version": "3.6.8"
  }
 },
 "nbformat": 4,
 "nbformat_minor": 2
}
